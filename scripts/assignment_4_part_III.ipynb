{
  "nbformat": 4,
  "nbformat_minor": 0,
  "metadata": {
    "colab": {
      "name": "m3_assignment_part_III.ipynb",
      "provenance": [],
      "include_colab_link": true
    },
    "kernelspec": {
      "name": "python3",
      "display_name": "Python 3"
    },
    "language_info": {
      "name": "python"
    }
  },
  "cells": [
    {
      "cell_type": "markdown",
      "metadata": {
        "id": "view-in-github",
        "colab_type": "text"
      },
      "source": [
        "<a href=\"https://colab.research.google.com/github/anoted/Assignment-4/blob/main/scripts/assignment_4_part_III.ipynb\" target=\"_parent\"><img src=\"https://colab.research.google.com/assets/colab-badge.svg\" alt=\"Open In Colab\"/></a>"
      ]
    },
    {
      "cell_type": "markdown",
      "source": [
        "# Part III\n",
        "Using the previous two tutorials, please answer the following using an encorder-decoder approach and an LSTM compared approach.\n",
        "\n",
        "Please create a transformer-based classifier for English name classification into male or female.\n",
        "\n",
        "There are several datasets for name for male or female classification. In subseuqent iterations, this could be expanded to included more classifications.\n",
        "\n",
        "Below is the source from NLTK, which only has male and female available but could be used for the purposes of this assignment.\n",
        "\n",
        "```\n",
        "names = nltk.corpus.names\n",
        "names.fileids()\n",
        "['female.txt', 'male.txt']\n",
        "male_names = names.words('male.txt')\n",
        "female_names = names.words('female.txt')\n",
        "[w for w in male_names if w in female_names]\n",
        "['Abbey', 'Abbie', 'Abby', 'Addie', 'Adrian', 'Adrien', 'Ajay', 'Alex', 'Alexis',\n",
        "'Alfie', 'Ali', 'Alix', 'Allie', 'Allyn', 'Andie', 'Andrea', 'Andy', 'Angel',\n",
        "'Angie', 'Ariel', 'Ashley', 'Aubrey', 'Augustine', 'Austin', 'Averil', ...]\n",
        "```"
      ],
      "metadata": {
        "id": "QD5ia2HsZpsC"
      }
    },
    {
      "cell_type": "code",
      "source": [
        "!pip install keras-nightly"
      ],
      "metadata": {
        "colab": {
          "base_uri": "https://localhost:8080/"
        },
        "id": "d9z1DQanXBTm",
        "outputId": "1eb09842-59ae-4169-b973-45864c48ded8"
      },
      "execution_count": 14,
      "outputs": [
        {
          "output_type": "stream",
          "name": "stdout",
          "text": [
            "Requirement already satisfied: keras-nightly in /usr/local/lib/python3.10/dist-packages (3.3.0.dev2024042203)\n",
            "Requirement already satisfied: absl-py in /usr/local/lib/python3.10/dist-packages (from keras-nightly) (1.4.0)\n",
            "Requirement already satisfied: numpy in /usr/local/lib/python3.10/dist-packages (from keras-nightly) (1.25.2)\n",
            "Requirement already satisfied: rich in /usr/local/lib/python3.10/dist-packages (from keras-nightly) (13.7.1)\n",
            "Requirement already satisfied: namex in /usr/local/lib/python3.10/dist-packages (from keras-nightly) (0.0.8)\n",
            "Requirement already satisfied: h5py in /usr/local/lib/python3.10/dist-packages (from keras-nightly) (3.9.0)\n",
            "Requirement already satisfied: optree in /usr/local/lib/python3.10/dist-packages (from keras-nightly) (0.11.0)\n",
            "Requirement already satisfied: ml-dtypes in /usr/local/lib/python3.10/dist-packages (from keras-nightly) (0.2.0)\n",
            "Requirement already satisfied: typing-extensions>=4.0.0 in /usr/local/lib/python3.10/dist-packages (from optree->keras-nightly) (4.11.0)\n",
            "Requirement already satisfied: markdown-it-py>=2.2.0 in /usr/local/lib/python3.10/dist-packages (from rich->keras-nightly) (3.0.0)\n",
            "Requirement already satisfied: pygments<3.0.0,>=2.13.0 in /usr/local/lib/python3.10/dist-packages (from rich->keras-nightly) (2.16.1)\n",
            "Requirement already satisfied: mdurl~=0.1 in /usr/local/lib/python3.10/dist-packages (from markdown-it-py>=2.2.0->rich->keras-nightly) (0.1.2)\n"
          ]
        }
      ]
    },
    {
      "cell_type": "code",
      "source": [
        "### START CODE HERE (REPLACE INSTANCES OF 'None' with your code) ###\n",
        "\n",
        "import tensorflow as tf\n",
        "import string\n",
        "import numpy as np\n",
        "import matplotlib.pyplot as plt\n",
        "import keras\n",
        "from keras import ops\n",
        "from keras import layers\n",
        "import random\n",
        "import re\n",
        "import nltk\n",
        "nltk.download('names')"
      ],
      "metadata": {
        "colab": {
          "base_uri": "https://localhost:8080/"
        },
        "id": "pCO-HQCZ0PUI",
        "outputId": "75956d09-11ef-4adb-829d-d328e6d81e35"
      },
      "execution_count": 15,
      "outputs": [
        {
          "output_type": "stream",
          "name": "stderr",
          "text": [
            "[nltk_data] Downloading package names to /root/nltk_data...\n",
            "[nltk_data]   Package names is already up-to-date!\n"
          ]
        },
        {
          "output_type": "execute_result",
          "data": {
            "text/plain": [
              "True"
            ]
          },
          "metadata": {},
          "execution_count": 15
        }
      ]
    },
    {
      "cell_type": "code",
      "source": [
        "def get_angles(pos, i, d_model):\n",
        "  angle_rates = 1 / np.power(10000, (2 * (i//2)) / np.float32(d_model))\n",
        "  return pos * angle_rates\n",
        "\n",
        "def positional_encoding(position, d_model):\n",
        "  angle_rads = get_angles(np.arange(position)[:, np.newaxis],\n",
        "                          np.arange(d_model)[np.newaxis, :],\n",
        "                          d_model)\n",
        "\n",
        "  # apply sin to even indices in the array; 2i\n",
        "  angle_rads[:, 0::2] = np.sin(angle_rads[:, 0::2])\n",
        "\n",
        "  # apply cos to odd indices in the array; 2i+1\n",
        "  angle_rads[:, 1::2] = np.cos(angle_rads[:, 1::2])\n",
        "\n",
        "  pos_encoding = angle_rads[np.newaxis, ...]\n",
        "\n",
        "  return tf.cast(pos_encoding, dtype=tf.float32)"
      ],
      "metadata": {
        "id": "qZu8Jj0b0Ckl"
      },
      "execution_count": 16,
      "outputs": []
    },
    {
      "cell_type": "markdown",
      "source": [
        "___\n"
      ],
      "metadata": {
        "id": "_v8sP8ivWtnO"
      }
    },
    {
      "cell_type": "code",
      "source": [
        "# name settings\n",
        "vocab_size = 27                     # letters + padding\n",
        "maxlen = 9                          # for name\n",
        "letters = string.ascii_lowercase    # vocabulary\n",
        "names = nltk.corpus.names           # name database\n",
        "#names.fileids()\n",
        "\n",
        "male_names = names.words('male.txt')\n",
        "female_names = names.words('female.txt')\n",
        "\n",
        "random.shuffle(male_names)          # shuffling for better training\n",
        "random.shuffle(female_names)\n",
        "\n",
        "##### position and listing\n",
        "x_train = []\n",
        "y_train = []\n",
        "\n",
        "for name in male_names[:len(male_names)-200]:\n",
        "    name = re.sub(r'[^A-Za-z]', '', name) # letter only\n",
        "    name_letters = list(name.lower())     # lower and list\n",
        "    x_name = []\n",
        "    for letter in name_letters:\n",
        "        #print(letter)\n",
        "        x_name.append(letters.index(letter)+1) # index as alphabet index 1-26\n",
        "    x_train.append(x_name)\n",
        "    y_train.append(1)                     # 1 -> male\n",
        "\n",
        "for name in female_names[:len(female_names)-200]:\n",
        "    name = re.sub(r'[^A-Za-z]', '', name) # letter only\n",
        "    name_letters = list(name.lower())     # lower and list\n",
        "    x_name = []\n",
        "    for letter in name_letters:\n",
        "        #print(letter)\n",
        "        x_name.append(letters.index(letter)+1) # index as alphabet index 1-26\n",
        "    x_train.append(x_name)\n",
        "    y_train.append(0)                     # 1 -> female\n",
        "\n",
        "# validation set\n",
        "x_val = []\n",
        "y_val = []\n",
        "\n",
        "for name in male_names[len(male_names)-200:]:\n",
        "    name = re.sub(r'[^A-Za-z]', '', name) # letter only\n",
        "    name_letters = list(name.lower())     # lower and list\n",
        "    x_name = []\n",
        "    for letter in name_letters:\n",
        "        #print(letter)\n",
        "        x_name.append(letters.index(letter)+1) # index as alphabet index 1-26\n",
        "    x_val.append(x_name)\n",
        "    y_val.append(1)                     # 1 -> male\n",
        "\n",
        "for name in female_names[len(female_names)-200:]:\n",
        "    name = re.sub(r'[^A-Za-z]', '', name) # letter only\n",
        "    name_letters = list(name.lower())     # lower and list\n",
        "    x_name = []\n",
        "    for letter in name_letters:\n",
        "        #print(letter)\n",
        "        x_name.append(letters.index(letter)+1) # index as alphabet index 1-26\n",
        "    x_val.append(x_name)\n",
        "    y_val.append(0)                     # 1 -> female\n",
        "\n",
        "# print(x_train)\n",
        "# print(x_val)\n",
        "x_train = keras.utils.pad_sequences(x_train, maxlen=maxlen)\n",
        "x_val = keras.utils.pad_sequences(x_val, maxlen=maxlen)\n",
        "\n",
        "# numpy array or tensorflow tensor ...\n",
        "y_train = np.array(y_train)\n",
        "y_val = np.array(y_val)\n",
        "#x_train = tf.convert_to_tensor(x_train, dtype=tf.float32)\n",
        "#x_val = tf.convert_to_tensor(x_val, dtype=tf.float32)\n"
      ],
      "metadata": {
        "id": "nNtTmPr3W3Ms"
      },
      "execution_count": 17,
      "outputs": []
    },
    {
      "cell_type": "code",
      "source": [
        "# Model definition\n",
        "class TransformerBlock(layers.Layer):\n",
        "    def __init__(self, embed_dim, num_heads, ff_dim, rate=0.1):\n",
        "        super().__init__()\n",
        "        self.att = layers.MultiHeadAttention(num_heads=num_heads, key_dim=embed_dim) # attention layer\n",
        "        self.ffn = keras.Sequential(\n",
        "            [layers.Dense(ff_dim, activation=\"relu\"), layers.Dense(embed_dim),]      # feed forward - dense\n",
        "        )\n",
        "        self.layernorm1 = layers.LayerNormalization(epsilon=1e-6)                    # normalizations\n",
        "        self.layernorm2 = layers.LayerNormalization(epsilon=1e-6)\n",
        "        self.dropout1 = layers.Dropout(rate)\n",
        "        self.dropout2 = layers.Dropout(rate)\n",
        "\n",
        "    def call(self, inputs):\n",
        "        attn_output = self.att(inputs, inputs)\n",
        "        attn_output = self.dropout1(attn_output)\n",
        "        out1 = self.layernorm1(inputs + attn_output)\n",
        "        ffn_output = self.ffn(out1)\n",
        "        ffn_output = self.dropout2(ffn_output)\n",
        "        return self.layernorm2(out1 + ffn_output)\n",
        "\n",
        "class TokenAndPositionEmbedding(layers.Layer):\n",
        "    def __init__(self, maxlen, vocab_size, embed_dim):\n",
        "        super().__init__()\n",
        "        self.token_emb = layers.Embedding(input_dim=vocab_size, output_dim=embed_dim)   # token embedding - self trained\n",
        "        self.pos_emb = layers.Embedding(input_dim=maxlen, output_dim=embed_dim)         # positional embedding - self calculated\n",
        "\n",
        "    def call(self, x):\n",
        "        maxlen = ops.shape(x)[-1]\n",
        "        positions = ops.arange(start=0, stop=maxlen, step=1)\n",
        "        positions = self.pos_emb(positions)\n",
        "        x = self.token_emb(x)\n",
        "        return x + positions\n"
      ],
      "metadata": {
        "id": "Ux-EG98FimDw"
      },
      "execution_count": 18,
      "outputs": []
    },
    {
      "cell_type": "markdown",
      "source": [
        "## Transformer Model"
      ],
      "metadata": {
        "id": "ZXWyM0jJrmEl"
      }
    },
    {
      "cell_type": "code",
      "source": [
        "embed_dim =  64  # Embedding size for each token\n",
        "num_heads = 3   # Number of attention heads\n",
        "ff_dim = 64     # Hidden layer size in feed forward network inside transformer\n",
        "\n",
        "# model definition\n",
        "inputs = layers.Input(shape=(maxlen,))\n",
        "embedding_layer = TokenAndPositionEmbedding(maxlen, vocab_size, embed_dim)\n",
        "x = embedding_layer(inputs)\n",
        "transformer_block = TransformerBlock(embed_dim, num_heads, ff_dim)\n",
        "x = transformer_block(x)\n",
        "x = layers.GlobalAveragePooling1D()(x)\n",
        "x = layers.Dropout(0.1)(x)\n",
        "x = layers.Dense(20, activation=\"leaky_relu\")(x)\n",
        "x = layers.Dropout(0.1)(x)\n",
        "outputs = layers.Dense(2, activation=\"softmax\")(x)\n",
        "\n",
        "model = keras.Model(inputs=inputs, outputs=outputs)"
      ],
      "metadata": {
        "id": "W480Y3mEW3tH"
      },
      "execution_count": 19,
      "outputs": []
    },
    {
      "cell_type": "code",
      "source": [
        "model.compile(optimizer=\"adam\", loss=\"sparse_categorical_crossentropy\", metrics=[\"accuracy\"])\n",
        "history = model.fit( x_train, y_train,\n",
        "                     batch_size=32, epochs=15,\n",
        "                     validation_data=(x_val, y_val) )\n"
      ],
      "metadata": {
        "colab": {
          "base_uri": "https://localhost:8080/"
        },
        "id": "rSvvatvkXjBq",
        "outputId": "62601327-fb35-4c4f-f237-9d9d8f412889"
      },
      "execution_count": 20,
      "outputs": [
        {
          "output_type": "stream",
          "name": "stdout",
          "text": [
            "Epoch 1/15\n",
            "\u001b[1m236/236\u001b[0m \u001b[32m━━━━━━━━━━━━━━━━━━━━\u001b[0m\u001b[37m\u001b[0m \u001b[1m16s\u001b[0m 32ms/step - accuracy: 0.6542 - loss: 0.6249 - val_accuracy: 0.7725 - val_loss: 0.4751\n",
            "Epoch 2/15\n",
            "\u001b[1m236/236\u001b[0m \u001b[32m━━━━━━━━━━━━━━━━━━━━\u001b[0m\u001b[37m\u001b[0m \u001b[1m7s\u001b[0m 31ms/step - accuracy: 0.7730 - loss: 0.4666 - val_accuracy: 0.7725 - val_loss: 0.4556\n",
            "Epoch 3/15\n",
            "\u001b[1m236/236\u001b[0m \u001b[32m━━━━━━━━━━━━━━━━━━━━\u001b[0m\u001b[37m\u001b[0m \u001b[1m7s\u001b[0m 17ms/step - accuracy: 0.7875 - loss: 0.4409 - val_accuracy: 0.7700 - val_loss: 0.4564\n",
            "Epoch 4/15\n",
            "\u001b[1m236/236\u001b[0m \u001b[32m━━━━━━━━━━━━━━━━━━━━\u001b[0m\u001b[37m\u001b[0m \u001b[1m4s\u001b[0m 14ms/step - accuracy: 0.7982 - loss: 0.4228 - val_accuracy: 0.7725 - val_loss: 0.4640\n",
            "Epoch 5/15\n",
            "\u001b[1m236/236\u001b[0m \u001b[32m━━━━━━━━━━━━━━━━━━━━\u001b[0m\u001b[37m\u001b[0m \u001b[1m3s\u001b[0m 13ms/step - accuracy: 0.8036 - loss: 0.4095 - val_accuracy: 0.7925 - val_loss: 0.4392\n",
            "Epoch 6/15\n",
            "\u001b[1m236/236\u001b[0m \u001b[32m━━━━━━━━━━━━━━━━━━━━\u001b[0m\u001b[37m\u001b[0m \u001b[1m3s\u001b[0m 14ms/step - accuracy: 0.8036 - loss: 0.3961 - val_accuracy: 0.7825 - val_loss: 0.4425\n",
            "Epoch 7/15\n",
            "\u001b[1m236/236\u001b[0m \u001b[32m━━━━━━━━━━━━━━━━━━━━\u001b[0m\u001b[37m\u001b[0m \u001b[1m5s\u001b[0m 13ms/step - accuracy: 0.8048 - loss: 0.4041 - val_accuracy: 0.7950 - val_loss: 0.4348\n",
            "Epoch 8/15\n",
            "\u001b[1m236/236\u001b[0m \u001b[32m━━━━━━━━━━━━━━━━━━━━\u001b[0m\u001b[37m\u001b[0m \u001b[1m3s\u001b[0m 13ms/step - accuracy: 0.8015 - loss: 0.4095 - val_accuracy: 0.7925 - val_loss: 0.4274\n",
            "Epoch 9/15\n",
            "\u001b[1m236/236\u001b[0m \u001b[32m━━━━━━━━━━━━━━━━━━━━\u001b[0m\u001b[37m\u001b[0m \u001b[1m7s\u001b[0m 21ms/step - accuracy: 0.8139 - loss: 0.3844 - val_accuracy: 0.7750 - val_loss: 0.4361\n",
            "Epoch 10/15\n",
            "\u001b[1m236/236\u001b[0m \u001b[32m━━━━━━━━━━━━━━━━━━━━\u001b[0m\u001b[37m\u001b[0m \u001b[1m4s\u001b[0m 15ms/step - accuracy: 0.8114 - loss: 0.3990 - val_accuracy: 0.7850 - val_loss: 0.4540\n",
            "Epoch 11/15\n",
            "\u001b[1m236/236\u001b[0m \u001b[32m━━━━━━━━━━━━━━━━━━━━\u001b[0m\u001b[37m\u001b[0m \u001b[1m5s\u001b[0m 14ms/step - accuracy: 0.8184 - loss: 0.3816 - val_accuracy: 0.7850 - val_loss: 0.4255\n",
            "Epoch 12/15\n",
            "\u001b[1m236/236\u001b[0m \u001b[32m━━━━━━━━━━━━━━━━━━━━\u001b[0m\u001b[37m\u001b[0m \u001b[1m4s\u001b[0m 18ms/step - accuracy: 0.8160 - loss: 0.3873 - val_accuracy: 0.8000 - val_loss: 0.4220\n",
            "Epoch 13/15\n",
            "\u001b[1m236/236\u001b[0m \u001b[32m━━━━━━━━━━━━━━━━━━━━\u001b[0m\u001b[37m\u001b[0m \u001b[1m3s\u001b[0m 14ms/step - accuracy: 0.8158 - loss: 0.3812 - val_accuracy: 0.8100 - val_loss: 0.4401\n",
            "Epoch 14/15\n",
            "\u001b[1m236/236\u001b[0m \u001b[32m━━━━━━━━━━━━━━━━━━━━\u001b[0m\u001b[37m\u001b[0m \u001b[1m7s\u001b[0m 22ms/step - accuracy: 0.8106 - loss: 0.3879 - val_accuracy: 0.7950 - val_loss: 0.4447\n",
            "Epoch 15/15\n",
            "\u001b[1m236/236\u001b[0m \u001b[32m━━━━━━━━━━━━━━━━━━━━\u001b[0m\u001b[37m\u001b[0m \u001b[1m4s\u001b[0m 16ms/step - accuracy: 0.8132 - loss: 0.3749 - val_accuracy: 0.8100 - val_loss: 0.4211\n"
          ]
        }
      ]
    },
    {
      "cell_type": "markdown",
      "source": [
        "## LSTM Model"
      ],
      "metadata": {
        "id": "MEtAkTafrqMs"
      }
    },
    {
      "cell_type": "code",
      "source": [
        "embed_dim =  64  # Embedding size for each token\n",
        "\n",
        "# model definition\n",
        "inputs = layers.Input(shape=(maxlen,))\n",
        "embedding_layer = layers.Embedding(input_dim=vocab_size, output_dim=embed_dim)\n",
        "x = embedding_layer(inputs)\n",
        "x = layers.LSTM(64, return_sequences=True)(x)\n",
        "x = layers.LSTM(32)(x)\n",
        "x = layers.Dropout(0.1)(x)\n",
        "x = layers.Dense(20, activation=\"leaky_relu\")(x)\n",
        "x = layers.Dropout(0.1)(x)\n",
        "outputs = layers.Dense(2, activation=\"softmax\")(x)\n",
        "\n",
        "model_lstm = keras.Model(inputs=inputs, outputs=outputs)"
      ],
      "metadata": {
        "id": "CyFVDchmrp71"
      },
      "execution_count": 21,
      "outputs": []
    },
    {
      "cell_type": "code",
      "source": [
        "model_lstm.compile(optimizer=\"adam\", loss=\"sparse_categorical_crossentropy\", metrics=[\"accuracy\"])\n",
        "history = model_lstm.fit( x_train, y_train,\n",
        "                          batch_size=32, epochs=15,\n",
        "                          validation_data=(x_val, y_val) )"
      ],
      "metadata": {
        "id": "yEByh3DYsGIL",
        "outputId": "d624d740-d0e4-48aa-9774-a3b8d8a9ec12",
        "colab": {
          "base_uri": "https://localhost:8080/"
        }
      },
      "execution_count": 22,
      "outputs": [
        {
          "output_type": "stream",
          "name": "stdout",
          "text": [
            "Epoch 1/15\n",
            "\u001b[1m236/236\u001b[0m \u001b[32m━━━━━━━━━━━━━━━━━━━━\u001b[0m\u001b[37m\u001b[0m \u001b[1m15s\u001b[0m 29ms/step - accuracy: 0.6444 - loss: 0.6308 - val_accuracy: 0.7600 - val_loss: 0.4983\n",
            "Epoch 2/15\n",
            "\u001b[1m236/236\u001b[0m \u001b[32m━━━━━━━━━━━━━━━━━━━━\u001b[0m\u001b[37m\u001b[0m \u001b[1m10s\u001b[0m 27ms/step - accuracy: 0.7821 - loss: 0.4474 - val_accuracy: 0.7600 - val_loss: 0.4948\n",
            "Epoch 3/15\n",
            "\u001b[1m236/236\u001b[0m \u001b[32m━━━━━━━━━━━━━━━━━━━━\u001b[0m\u001b[37m\u001b[0m \u001b[1m7s\u001b[0m 13ms/step - accuracy: 0.7862 - loss: 0.4362 - val_accuracy: 0.7800 - val_loss: 0.4597\n",
            "Epoch 4/15\n",
            "\u001b[1m236/236\u001b[0m \u001b[32m━━━━━━━━━━━━━━━━━━━━\u001b[0m\u001b[37m\u001b[0m \u001b[1m6s\u001b[0m 15ms/step - accuracy: 0.8015 - loss: 0.4211 - val_accuracy: 0.7800 - val_loss: 0.4737\n",
            "Epoch 5/15\n",
            "\u001b[1m236/236\u001b[0m \u001b[32m━━━━━━━━━━━━━━━━━━━━\u001b[0m\u001b[37m\u001b[0m \u001b[1m3s\u001b[0m 11ms/step - accuracy: 0.8124 - loss: 0.3872 - val_accuracy: 0.7675 - val_loss: 0.4463\n",
            "Epoch 6/15\n",
            "\u001b[1m236/236\u001b[0m \u001b[32m━━━━━━━━━━━━━━━━━━━━\u001b[0m\u001b[37m\u001b[0m \u001b[1m3s\u001b[0m 11ms/step - accuracy: 0.8040 - loss: 0.3953 - val_accuracy: 0.7675 - val_loss: 0.4538\n",
            "Epoch 7/15\n",
            "\u001b[1m236/236\u001b[0m \u001b[32m━━━━━━━━━━━━━━━━━━━━\u001b[0m\u001b[37m\u001b[0m \u001b[1m3s\u001b[0m 11ms/step - accuracy: 0.8231 - loss: 0.3890 - val_accuracy: 0.7675 - val_loss: 0.4582\n",
            "Epoch 8/15\n",
            "\u001b[1m236/236\u001b[0m \u001b[32m━━━━━━━━━━━━━━━━━━━━\u001b[0m\u001b[37m\u001b[0m \u001b[1m5s\u001b[0m 12ms/step - accuracy: 0.8186 - loss: 0.3813 - val_accuracy: 0.8050 - val_loss: 0.4304\n",
            "Epoch 9/15\n",
            "\u001b[1m236/236\u001b[0m \u001b[32m━━━━━━━━━━━━━━━━━━━━\u001b[0m\u001b[37m\u001b[0m \u001b[1m3s\u001b[0m 11ms/step - accuracy: 0.8236 - loss: 0.3775 - val_accuracy: 0.7875 - val_loss: 0.4482\n",
            "Epoch 10/15\n",
            "\u001b[1m236/236\u001b[0m \u001b[32m━━━━━━━━━━━━━━━━━━━━\u001b[0m\u001b[37m\u001b[0m \u001b[1m5s\u001b[0m 12ms/step - accuracy: 0.8280 - loss: 0.3615 - val_accuracy: 0.7675 - val_loss: 0.4795\n",
            "Epoch 11/15\n",
            "\u001b[1m236/236\u001b[0m \u001b[32m━━━━━━━━━━━━━━━━━━━━\u001b[0m\u001b[37m\u001b[0m \u001b[1m4s\u001b[0m 15ms/step - accuracy: 0.8220 - loss: 0.3705 - val_accuracy: 0.7975 - val_loss: 0.4545\n",
            "Epoch 12/15\n",
            "\u001b[1m236/236\u001b[0m \u001b[32m━━━━━━━━━━━━━━━━━━━━\u001b[0m\u001b[37m\u001b[0m \u001b[1m3s\u001b[0m 11ms/step - accuracy: 0.8306 - loss: 0.3494 - val_accuracy: 0.7925 - val_loss: 0.4460\n",
            "Epoch 13/15\n",
            "\u001b[1m236/236\u001b[0m \u001b[32m━━━━━━━━━━━━━━━━━━━━\u001b[0m\u001b[37m\u001b[0m \u001b[1m3s\u001b[0m 11ms/step - accuracy: 0.8312 - loss: 0.3519 - val_accuracy: 0.7950 - val_loss: 0.4529\n",
            "Epoch 14/15\n",
            "\u001b[1m236/236\u001b[0m \u001b[32m━━━━━━━━━━━━━━━━━━━━\u001b[0m\u001b[37m\u001b[0m \u001b[1m6s\u001b[0m 16ms/step - accuracy: 0.8426 - loss: 0.3309 - val_accuracy: 0.8100 - val_loss: 0.4249\n",
            "Epoch 15/15\n",
            "\u001b[1m236/236\u001b[0m \u001b[32m━━━━━━━━━━━━━━━━━━━━\u001b[0m\u001b[37m\u001b[0m \u001b[1m3s\u001b[0m 11ms/step - accuracy: 0.8486 - loss: 0.3343 - val_accuracy: 0.8000 - val_loss: 0.4533\n"
          ]
        }
      ]
    },
    {
      "cell_type": "markdown",
      "source": [
        "---\n",
        "# Testing:"
      ],
      "metadata": {
        "id": "gRtIMRh8sGtS"
      }
    },
    {
      "cell_type": "code",
      "source": [
        "def prep_name(name, maxlen=maxlen):\n",
        "    name = re.sub(r'[^A-Za-z]', '', name) # letter only\n",
        "    name_letters = list(name.lower())     # lower and list\n",
        "    x_name = []\n",
        "    for letter in name_letters:\n",
        "        #print(letter)\n",
        "        x_name.append(letters.index(letter)+1) # index as alphabet index 1-26\n",
        "    return keras.utils.pad_sequences([x_name], maxlen=maxlen)"
      ],
      "metadata": {
        "id": "kyfPiVhIkUVe"
      },
      "execution_count": 23,
      "outputs": []
    },
    {
      "cell_type": "code",
      "source": [
        "test_names = [\"Robin\", \"Sam\", \"Abigail\", \"Elliot\", \"Haley\", \"Harvey\", \"Leah\", \"Penny\"]"
      ],
      "metadata": {
        "id": "jkv1QN_Qlswd"
      },
      "execution_count": 24,
      "outputs": []
    },
    {
      "cell_type": "code",
      "source": [
        "print('Name', \"    \\t\",   \"Transformer\", \"\\t\" ,   \"LSTM\" )\n",
        "print(\"====================================================\")\n",
        "for name in test_names:\n",
        "    predicted       = model.predict(prep_name(name), verbose=0)                   # transformer model\n",
        "    predicted_lstm  = model_lstm.predict(prep_name(name), verbose=0)              # lstm model\n",
        "    print(name, \"    \\t\",   \"male\" if np.argmax(predicted) == 1 else \"female\"\n",
        "              , \"    \\t\" ,  \"male\" if np.argmax(predicted_lstm) == 1 else \"female\" )\n",
        "    print(\"------------------------------------------------\")\n",
        "\n",
        "\n"
      ],
      "metadata": {
        "colab": {
          "base_uri": "https://localhost:8080/"
        },
        "id": "w_ocTVWzYlIy",
        "outputId": "956cce50-9841-444e-f582-9162b0c4e48b"
      },
      "execution_count": 32,
      "outputs": [
        {
          "output_type": "stream",
          "name": "stdout",
          "text": [
            "Name     \t Transformer \t LSTM\n",
            "====================================================\n",
            "Robin     \t female     \t male\n",
            "------------------------------------------------\n",
            "Sam     \t male     \t male\n",
            "------------------------------------------------\n",
            "Abigail     \t female     \t female\n",
            "------------------------------------------------\n",
            "Elliot     \t male     \t male\n",
            "------------------------------------------------\n",
            "Haley     \t female     \t male\n",
            "------------------------------------------------\n",
            "Harvey     \t male     \t male\n",
            "------------------------------------------------\n",
            "Leah     \t female     \t female\n",
            "------------------------------------------------\n",
            "Penny     \t female     \t female\n",
            "------------------------------------------------\n"
          ]
        }
      ]
    },
    {
      "cell_type": "code",
      "source": [
        "### END CODE HERE ###"
      ],
      "metadata": {
        "id": "S6IqKpxBtRMI"
      },
      "execution_count": 27,
      "outputs": []
    },
    {
      "cell_type": "markdown",
      "source": [
        "# References\n",
        "1. https://arxiv.org/pdf/2102.03692.pdf\n",
        "2. https://alvinntnu.github.io/NTNU_ENC2045_LECTURES/exercise/13-attention.html\n",
        "3. https://towardsdatascience.com/deep-learning-gender-from-name-lstm-recurrent-neural-networks-448d64553044\n",
        "4. https://www.nltk.org/book/ch02.html#sec-lexical-resources"
      ],
      "metadata": {
        "id": "ExMITGgCdQWz"
      }
    },
    {
      "cell_type": "markdown",
      "source": [],
      "metadata": {
        "id": "PHiDsdXLhbbW"
      }
    }
  ]
}